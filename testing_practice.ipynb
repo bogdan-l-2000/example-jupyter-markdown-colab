{
  "cells": [
    {
      "cell_type": "markdown",
      "metadata": {
        "id": "view-in-github",
        "colab_type": "text"
      },
      "source": [
        "<a href=\"https://colab.research.google.com/github/bogdan-l-2000/example-jupyter-markdown-colab/blob/main/testing_practice.ipynb\" target=\"_parent\"><img src=\"https://colab.research.google.com/assets/colab-badge.svg\" alt=\"Open In Colab\"/></a>"
      ]
    },
    {
      "cell_type": "code",
      "execution_count": null,
      "metadata": {
        "id": "iIAiHRIYyYI1"
      },
      "outputs": [],
      "source": [
        "def increment(x):\n",
        "    return x + 1\n",
        "\n",
        "def test_increment():\n",
        "    assert increment(3) == 4\n",
        "    assert increment(5) == 6, \"Increment failed\"\n",
        "\n",
        "    #Catch failures with try/except\n",
        "    try:\n",
        "        assert increment(-2) == -1\n",
        "    except AssertionError:\n",
        "        print(\"Incrementing negative number failed\")\n",
        ""
      ]
    },
    {
      "cell_type": "code",
      "execution_count": null,
      "metadata": {
        "id": "xzfl2k_AyYI3"
      },
      "outputs": [],
      "source": [
        "test_increment()"
      ]
    },
    {
      "cell_type": "code",
      "execution_count": null,
      "metadata": {
        "id": "L3Q0R8PQyYI4"
      },
      "outputs": [],
      "source": [
        "def test_increment_2():\n",
        "    assert increment(10) == 11\n",
        "    assert increment(0) == 1\n",
        "\n",
        "    try:\n",
        "        assert increment(\"ouch!\") == \"ouch1\"\n",
        "    except TypeError:\n",
        "        print(\"Incrementing string failed\")"
      ]
    },
    {
      "cell_type": "code",
      "execution_count": null,
      "metadata": {
        "id": "Mnc64LGayYI4",
        "outputId": "fa68b9ba-2d45-4c52-a19a-030c60cd657d"
      },
      "outputs": [
        {
          "name": "stdout",
          "output_type": "stream",
          "text": [
            "Incrementing string failed\n"
          ]
        }
      ],
      "source": [
        "test_increment_2()"
      ]
    },
    {
      "cell_type": "code",
      "execution_count": null,
      "metadata": {
        "id": "roTk49FLyYI5"
      },
      "outputs": [],
      "source": []
    }
  ],
  "metadata": {
    "kernelspec": {
      "display_name": "Python 3",
      "language": "python",
      "name": "python3"
    },
    "language_info": {
      "codemirror_mode": {
        "name": "ipython",
        "version": 3
      },
      "file_extension": ".py",
      "mimetype": "text/x-python",
      "name": "python",
      "nbconvert_exporter": "python",
      "pygments_lexer": "ipython3",
      "version": "3.7.6"
    },
    "colab": {
      "provenance": [],
      "include_colab_link": true
    }
  },
  "nbformat": 4,
  "nbformat_minor": 0
}